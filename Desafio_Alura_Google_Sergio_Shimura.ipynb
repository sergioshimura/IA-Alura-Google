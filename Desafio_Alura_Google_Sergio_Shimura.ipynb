{
  "nbformat": 4,
  "nbformat_minor": 0,
  "metadata": {
    "colab": {
      "provenance": [],
      "authorship_tag": "ABX9TyPN6KoXz2Hhdv0W/7Nn154Z",
      "include_colab_link": true
    },
    "kernelspec": {
      "name": "python3",
      "display_name": "Python 3"
    },
    "language_info": {
      "name": "python"
    }
  },
  "cells": [
    {
      "cell_type": "markdown",
      "metadata": {
        "id": "view-in-github",
        "colab_type": "text"
      },
      "source": [
        "<a href=\"https://colab.research.google.com/github/sergioshimura/3D-models/blob/main/Desafio_Alura_Google_Sergio_Shimura.ipynb\" target=\"_parent\"><img src=\"https://colab.research.google.com/assets/colab-badge.svg\" alt=\"Open In Colab\"/></a>"
      ]
    },
    {
      "cell_type": "markdown",
      "source": [
        "# **Descrição do problema a resolver:**\n",
        "\n",
        "Os candidatos às chamadas públicas, ao ler o edital, normalmente se deparam com dificuldades para encontrar informações importantes dentro da chamada, como por exemplo, datas importantes, documentos necessários, requisitos para o candidato, etc.\n",
        "Este notebook visa facilitar a leitura de editais através da utilização de \"Prompt\" onde o usuário pode fazer perguntas relacionadas ao conteúdo de um ou vários documentos na forma PDF.\n",
        "\n",
        "### **Author: Sergio Shimura**\n",
        "\n",
        "Desafio Imersão Inteligência Artificial 2ª Edição (03 a 13/05/2024), Alura e Google"
      ],
      "metadata": {
        "id": "HRUHVSu7nAma"
      }
    },
    {
      "cell_type": "markdown",
      "source": [
        "## **Descrição do código:**\n",
        "opções do \"pip install\": -q (quiet)**\n",
        "-U (update)"
      ],
      "metadata": {
        "id": "bqw5G7vjo24t"
      }
    },
    {
      "cell_type": "code",
      "source": [
        "#Instalando o SDK do Google\n",
        "!pip install -q -U google-generativeai\n",
        "!pip install -q -U pdfx"
      ],
      "metadata": {
        "id": "wGnfLI1Sm7az"
      },
      "execution_count": 1,
      "outputs": []
    },
    {
      "cell_type": "markdown",
      "source": [
        "Configurações iniciais"
      ],
      "metadata": {
        "id": "HnXZMXIcrJov"
      }
    },
    {
      "cell_type": "code",
      "source": [
        "from pathlib import Path\n",
        "import hashlib\n",
        "import google.generativeai as genai\n",
        "import numpy as np\n",
        "import pandas as pd\n",
        "import pdfx"
      ],
      "metadata": {
        "id": "nDTYhCOVqhwe"
      },
      "execution_count": 2,
      "outputs": []
    },
    {
      "cell_type": "markdown",
      "source": [
        "Para utilizar o API Key de forma segura, usar o código abaixo e habilitar, no menu do lado esquerdo, ticar o \"Acesso ao notebook\", nome = SECRET_KEY, Valor = \"seu API KEY\""
      ],
      "metadata": {
        "id": "eixeP6qRr_79"
      }
    },
    {
      "cell_type": "code",
      "source": [
        "from google.colab import userdata\n",
        "api_key = userdata.get('SECRET_KEY')\n",
        "genai.configure(api_key = api_key)"
      ],
      "metadata": {
        "id": "EadjIkcNpAxO"
      },
      "execution_count": 3,
      "outputs": []
    },
    {
      "cell_type": "markdown",
      "source": [
        "Hiperparametros do modelo: temperatura = nível de criatividade, top_p = probabilidade acumulada para os primeiros tokens, top_k = top k tokens"
      ],
      "metadata": {
        "id": "ascVlbKZsdAi"
      }
    },
    {
      "cell_type": "code",
      "source": [
        "# Set up the model\n",
        "generation_config = {\n",
        "  \"temperature\": 1,\n",
        "  \"top_p\": 0.95,\n",
        "  \"top_k\": 0,\n",
        "  \"max_output_tokens\": 8192,\n",
        "}"
      ],
      "metadata": {
        "id": "eB0qlqAlpQTP"
      },
      "execution_count": 4,
      "outputs": []
    },
    {
      "cell_type": "markdown",
      "source": [
        "Configurações de segurança"
      ],
      "metadata": {
        "id": "iK_4ci-TtUnf"
      }
    },
    {
      "cell_type": "code",
      "source": [
        "safety_settings = [\n",
        "  {\n",
        "    \"category\": \"HARM_CATEGORY_HARASSMENT\",\n",
        "    \"threshold\": \"BLOCK_MEDIUM_AND_ABOVE\"\n",
        "  },\n",
        "  {\n",
        "    \"category\": \"HARM_CATEGORY_HATE_SPEECH\",\n",
        "    \"threshold\": \"BLOCK_MEDIUM_AND_ABOVE\"\n",
        "  },\n",
        "  {\n",
        "    \"category\": \"HARM_CATEGORY_SEXUALLY_EXPLICIT\",\n",
        "    \"threshold\": \"BLOCK_MEDIUM_AND_ABOVE\"\n",
        "  },\n",
        "  {\n",
        "    \"category\": \"HARM_CATEGORY_DANGEROUS_CONTENT\",\n",
        "    \"threshold\": \"BLOCK_MEDIUM_AND_ABOVE\"\n",
        "  },\n",
        "]"
      ],
      "metadata": {
        "id": "4vAySCnQpTtH"
      },
      "execution_count": 5,
      "outputs": []
    },
    {
      "cell_type": "markdown",
      "source": [
        "Aqui é feita a carga do arquivo pdf que deve estar já disponível no menu do lado esquerdo, em arquivos - clicar em upload caso não apareça lá"
      ],
      "metadata": {
        "id": "uhPTLfi5eaa6"
      }
    },
    {
      "cell_type": "code",
      "source": [
        "pdf = pdfx.PDFx(\"document0.pdf\")\n",
        "pdf"
      ],
      "metadata": {
        "colab": {
          "base_uri": "https://localhost:8080/"
        },
        "id": "ODumVMTxVsO5",
        "outputId": "dc355e01-c83b-4c13-9a57-0f565e1c0bfd"
      },
      "execution_count": 6,
      "outputs": [
        {
          "output_type": "execute_result",
          "data": {
            "text/plain": [
              "<pdfx.PDFx at 0x787bfd1a4eb0>"
            ]
          },
          "metadata": {},
          "execution_count": 6
        }
      ]
    },
    {
      "cell_type": "markdown",
      "source": [
        "Este comando transforma o PDF em texto"
      ],
      "metadata": {
        "id": "2LdUTc2he3RG"
      }
    },
    {
      "cell_type": "code",
      "source": [
        "sample_text = pdf.get_text()\n",
        "sample_text"
      ],
      "metadata": {
        "colab": {
          "base_uri": "https://localhost:8080/",
          "height": 147
        },
        "id": "Ftde-sfIV7UB",
        "outputId": "e74b1658-1842-402d-b238-6bb558f0fbed"
      },
      "execution_count": 7,
      "outputs": [
        {
          "output_type": "execute_result",
          "data": {
            "text/plain": [
              "'Ministério da Educação\\nMinistério da Educação\\nIns(cid:18)tuto Federal de Educação, Ciência e Tecnologia de São Paulo\\nIns(cid:18)tuto Federal de Educação, Ciência e Tecnologia de São Paulo\\nReitoria\\nReitoria\\nPRO-REITORIA PLAN. DESEN. INSTITUCIONAL\\nPRO-REITORIA PLAN. DESEN. INSTITUCIONAL\\n\\n27 DE MARÇO DE 2024\\n EDITAL Nº 9/2024 - PRO-PRD/RET/IFSP, DE  27 DE MARÇO DE 2024\\n  EDITAL Nº 9/2024 - PRO-PRD/RET/IFSP, DE \\n\\n PROCESSO SELETIVO DE AFASTAMENTO REMUNERADO DOCENTE PARA PARTICIPAÇÃO EM PROGRAMA\\nDE PÓS-GRADUAÇÃO STRICTO SENSU\\n\\nEDITAL PRO-PRD/CPPD nº09/2024\\n\\n2º SEMESTRE DE 2024\\n\\n \\n\\n \\n\\nA Pró-Reitoria de Planejamento e Desenvolvimento Institucional (PRO-PRD) e a Comissão Permanente de Pessoal Docente (CPPD) \\ntorna pública a abertura das inscrições para o Processo Seletivo de docentes efetivos, no âmbito do Instituto Federal de Educação, Ciência \\ne Tecnologia de São Paulo (IFSP), visando a classificação e preenchimento de vagas de Afastamento Remunerado Docente para \\nParticipação em Programa de Pós-Graduação Stricto Sensu para o 2º semestre de 2024 (01 de julho a 31 de dezembro), em níveis de \\nMestrado, Doutorado e Pós-Doutorado, nos termos do Art. 96-A da Lei nº 8.112, de 11 de dezembro de 1990; do inciso I e §2º do Art. 30 \\nda Lei nº 12.772, de 28 de dezembro de 2012; do Decreto nº 9.991, de 28 de agosto de 2019; da Portaria Normativa RET IFSP nº 12, de 07\\nde julho de 2021; da Portaria Normativas RET IFSP nº 13, de 07 de julho de 2021, e sua alteração (Portaria Normativa RET IFSP nº 69, \\nde 21 de setembro de 2022) e da Portaria IFSP nº1869, de 26 de março de 2024 (indicativo de vagas). \\n\\n \\n\\n1. DAS DISPOSIÇÕES PRELIMINARES E DO CRONOGRAMA\\n\\n1.1 O Processo Seletivo será regido por este Edital e demais documentos envolvidos (Processo Suap nº 23305.006660.2024-51).\\n\\n1.2 Ao efetuar a inscrição, o candidato declara conhecimento e aceitação tácita das condições e normas legais envolvidas neste Processo \\nSeletivo, tais como se acham definidas neste Edital e seus desdobramentos, conforme normas legais pertinentes, das quais não poderá \\nalegar desconhecimento.\\n\\n1.3 O cronograma de eventos e datas deste Processo Seletivo está disposto no Quadro 1:\\n\\nQuadro 1: Cronograma do edital\\n\\nPeríodo de Inscrições\\n\\n01/04/24 à 18/04/24\\n\\nPublicação do Resultado Preliminar\\n\\n26/04/23 \\n\\nPrazo para Interposição de Recursos\\n\\n29/04/23 à 30/04/23\\n\\nPublicação do Resultado Final\\n\\n06/05/24\\n\\nSolicitação de Edital para Professor Substituto\\n\\naté 10/05/24\\n\\nPublicação da Portaria e Início do Afastamento\\n\\nCondicionado à contratação do \\nsubstituto\\n\\n2. DOS REQUISITOS\\n\\n2.1 Para concorrer ao Processo Seletivo de Afastamento Remunerado para Participação em Programa de Pós-Graduação Stricto Sensu, os \\nservidores interessados deverão atender aos requisitos previstos no Artigo 7º, da Portaria Normativa RET IFSP nº 13/2021 (e sua \\nalteração), sendo eles:\\n\\n\\x0c'"
            ],
            "application/vnd.google.colaboratory.intrinsic+json": {
              "type": "string"
            }
          },
          "metadata": {},
          "execution_count": 7
        }
      ]
    },
    {
      "cell_type": "markdown",
      "source": [
        "O texto a ser cunsultado é colocado em \"documents\". **Caso hajam mais documentos, eles podem ser adicionados aqui bastando apenas acrescentar linhas de Titulo e Conteúdo para DOCUMENT2, DOCUMENT3, etc.**"
      ],
      "metadata": {
        "id": "Pqex8g0Nfjux"
      }
    },
    {
      "cell_type": "code",
      "source": [
        "DOCUMENT1 = {\n",
        "    \"Título\": \"Edital IFSP\",\n",
        "    \"Conteúdo\": sample_text\n",
        "}\n",
        "documents = [DOCUMENT1]"
      ],
      "metadata": {
        "id": "PLH96cqRaphv"
      },
      "execution_count": 8,
      "outputs": []
    },
    {
      "cell_type": "markdown",
      "source": [
        "Aqui o texto é guardado em um dataframe para processamento posterior"
      ],
      "metadata": {
        "id": "shrnk9Zne-tW"
      }
    },
    {
      "cell_type": "code",
      "source": [
        "df = pd.DataFrame(documents)\n",
        "df.columns = [\"Titulo\", \"Conteudo\"]\n",
        "df"
      ],
      "metadata": {
        "colab": {
          "base_uri": "https://localhost:8080/",
          "height": 89
        },
        "id": "O7gGn7rYa_Ga",
        "outputId": "6cfa3ae5-a70c-4c86-d232-322377467908"
      },
      "execution_count": 9,
      "outputs": [
        {
          "output_type": "execute_result",
          "data": {
            "text/plain": [
              "        Titulo                                           Conteudo\n",
              "0  Edital IFSP  Ministério da Educação\\nMinistério da Educação..."
            ],
            "text/html": [
              "\n",
              "  <div id=\"df-ebc0e4d0-5b99-41b4-b15d-4813091857e1\" class=\"colab-df-container\">\n",
              "    <div>\n",
              "<style scoped>\n",
              "    .dataframe tbody tr th:only-of-type {\n",
              "        vertical-align: middle;\n",
              "    }\n",
              "\n",
              "    .dataframe tbody tr th {\n",
              "        vertical-align: top;\n",
              "    }\n",
              "\n",
              "    .dataframe thead th {\n",
              "        text-align: right;\n",
              "    }\n",
              "</style>\n",
              "<table border=\"1\" class=\"dataframe\">\n",
              "  <thead>\n",
              "    <tr style=\"text-align: right;\">\n",
              "      <th></th>\n",
              "      <th>Titulo</th>\n",
              "      <th>Conteudo</th>\n",
              "    </tr>\n",
              "  </thead>\n",
              "  <tbody>\n",
              "    <tr>\n",
              "      <th>0</th>\n",
              "      <td>Edital IFSP</td>\n",
              "      <td>Ministério da Educação\\nMinistério da Educação...</td>\n",
              "    </tr>\n",
              "  </tbody>\n",
              "</table>\n",
              "</div>\n",
              "    <div class=\"colab-df-buttons\">\n",
              "\n",
              "  <div class=\"colab-df-container\">\n",
              "    <button class=\"colab-df-convert\" onclick=\"convertToInteractive('df-ebc0e4d0-5b99-41b4-b15d-4813091857e1')\"\n",
              "            title=\"Convert this dataframe to an interactive table.\"\n",
              "            style=\"display:none;\">\n",
              "\n",
              "  <svg xmlns=\"http://www.w3.org/2000/svg\" height=\"24px\" viewBox=\"0 -960 960 960\">\n",
              "    <path d=\"M120-120v-720h720v720H120Zm60-500h600v-160H180v160Zm220 220h160v-160H400v160Zm0 220h160v-160H400v160ZM180-400h160v-160H180v160Zm440 0h160v-160H620v160ZM180-180h160v-160H180v160Zm440 0h160v-160H620v160Z\"/>\n",
              "  </svg>\n",
              "    </button>\n",
              "\n",
              "  <style>\n",
              "    .colab-df-container {\n",
              "      display:flex;\n",
              "      gap: 12px;\n",
              "    }\n",
              "\n",
              "    .colab-df-convert {\n",
              "      background-color: #E8F0FE;\n",
              "      border: none;\n",
              "      border-radius: 50%;\n",
              "      cursor: pointer;\n",
              "      display: none;\n",
              "      fill: #1967D2;\n",
              "      height: 32px;\n",
              "      padding: 0 0 0 0;\n",
              "      width: 32px;\n",
              "    }\n",
              "\n",
              "    .colab-df-convert:hover {\n",
              "      background-color: #E2EBFA;\n",
              "      box-shadow: 0px 1px 2px rgba(60, 64, 67, 0.3), 0px 1px 3px 1px rgba(60, 64, 67, 0.15);\n",
              "      fill: #174EA6;\n",
              "    }\n",
              "\n",
              "    .colab-df-buttons div {\n",
              "      margin-bottom: 4px;\n",
              "    }\n",
              "\n",
              "    [theme=dark] .colab-df-convert {\n",
              "      background-color: #3B4455;\n",
              "      fill: #D2E3FC;\n",
              "    }\n",
              "\n",
              "    [theme=dark] .colab-df-convert:hover {\n",
              "      background-color: #434B5C;\n",
              "      box-shadow: 0px 1px 3px 1px rgba(0, 0, 0, 0.15);\n",
              "      filter: drop-shadow(0px 1px 2px rgba(0, 0, 0, 0.3));\n",
              "      fill: #FFFFFF;\n",
              "    }\n",
              "  </style>\n",
              "\n",
              "    <script>\n",
              "      const buttonEl =\n",
              "        document.querySelector('#df-ebc0e4d0-5b99-41b4-b15d-4813091857e1 button.colab-df-convert');\n",
              "      buttonEl.style.display =\n",
              "        google.colab.kernel.accessAllowed ? 'block' : 'none';\n",
              "\n",
              "      async function convertToInteractive(key) {\n",
              "        const element = document.querySelector('#df-ebc0e4d0-5b99-41b4-b15d-4813091857e1');\n",
              "        const dataTable =\n",
              "          await google.colab.kernel.invokeFunction('convertToInteractive',\n",
              "                                                    [key], {});\n",
              "        if (!dataTable) return;\n",
              "\n",
              "        const docLinkHtml = 'Like what you see? Visit the ' +\n",
              "          '<a target=\"_blank\" href=https://colab.research.google.com/notebooks/data_table.ipynb>data table notebook</a>'\n",
              "          + ' to learn more about interactive tables.';\n",
              "        element.innerHTML = '';\n",
              "        dataTable['output_type'] = 'display_data';\n",
              "        await google.colab.output.renderOutput(dataTable, element);\n",
              "        const docLink = document.createElement('div');\n",
              "        docLink.innerHTML = docLinkHtml;\n",
              "        element.appendChild(docLink);\n",
              "      }\n",
              "    </script>\n",
              "  </div>\n",
              "\n",
              "\n",
              "  <div id=\"id_ef693946-1888-4507-88d0-dc1677c0f1e5\">\n",
              "    <style>\n",
              "      .colab-df-generate {\n",
              "        background-color: #E8F0FE;\n",
              "        border: none;\n",
              "        border-radius: 50%;\n",
              "        cursor: pointer;\n",
              "        display: none;\n",
              "        fill: #1967D2;\n",
              "        height: 32px;\n",
              "        padding: 0 0 0 0;\n",
              "        width: 32px;\n",
              "      }\n",
              "\n",
              "      .colab-df-generate:hover {\n",
              "        background-color: #E2EBFA;\n",
              "        box-shadow: 0px 1px 2px rgba(60, 64, 67, 0.3), 0px 1px 3px 1px rgba(60, 64, 67, 0.15);\n",
              "        fill: #174EA6;\n",
              "      }\n",
              "\n",
              "      [theme=dark] .colab-df-generate {\n",
              "        background-color: #3B4455;\n",
              "        fill: #D2E3FC;\n",
              "      }\n",
              "\n",
              "      [theme=dark] .colab-df-generate:hover {\n",
              "        background-color: #434B5C;\n",
              "        box-shadow: 0px 1px 3px 1px rgba(0, 0, 0, 0.15);\n",
              "        filter: drop-shadow(0px 1px 2px rgba(0, 0, 0, 0.3));\n",
              "        fill: #FFFFFF;\n",
              "      }\n",
              "    </style>\n",
              "    <button class=\"colab-df-generate\" onclick=\"generateWithVariable('df')\"\n",
              "            title=\"Generate code using this dataframe.\"\n",
              "            style=\"display:none;\">\n",
              "\n",
              "  <svg xmlns=\"http://www.w3.org/2000/svg\" height=\"24px\"viewBox=\"0 0 24 24\"\n",
              "       width=\"24px\">\n",
              "    <path d=\"M7,19H8.4L18.45,9,17,7.55,7,17.6ZM5,21V16.75L18.45,3.32a2,2,0,0,1,2.83,0l1.4,1.43a1.91,1.91,0,0,1,.58,1.4,1.91,1.91,0,0,1-.58,1.4L9.25,21ZM18.45,9,17,7.55Zm-12,3A5.31,5.31,0,0,0,4.9,8.1,5.31,5.31,0,0,0,1,6.5,5.31,5.31,0,0,0,4.9,4.9,5.31,5.31,0,0,0,6.5,1,5.31,5.31,0,0,0,8.1,4.9,5.31,5.31,0,0,0,12,6.5,5.46,5.46,0,0,0,6.5,12Z\"/>\n",
              "  </svg>\n",
              "    </button>\n",
              "    <script>\n",
              "      (() => {\n",
              "      const buttonEl =\n",
              "        document.querySelector('#id_ef693946-1888-4507-88d0-dc1677c0f1e5 button.colab-df-generate');\n",
              "      buttonEl.style.display =\n",
              "        google.colab.kernel.accessAllowed ? 'block' : 'none';\n",
              "\n",
              "      buttonEl.onclick = () => {\n",
              "        google.colab.notebook.generateWithVariable('df');\n",
              "      }\n",
              "      })();\n",
              "    </script>\n",
              "  </div>\n",
              "\n",
              "    </div>\n",
              "  </div>\n"
            ],
            "application/vnd.google.colaboratory.intrinsic+json": {
              "type": "dataframe",
              "variable_name": "df",
              "summary": "{\n  \"name\": \"df\",\n  \"rows\": 1,\n  \"fields\": [\n    {\n      \"column\": \"Titulo\",\n      \"properties\": {\n        \"dtype\": \"string\",\n        \"num_unique_values\": 1,\n        \"samples\": [\n          \"Edital IFSP\"\n        ],\n        \"semantic_type\": \"\",\n        \"description\": \"\"\n      }\n    },\n    {\n      \"column\": \"Conteudo\",\n      \"properties\": {\n        \"dtype\": \"string\",\n        \"num_unique_values\": 1,\n        \"samples\": [\n          \"Minist\\u00e9rio da Educa\\u00e7\\u00e3o\\nMinist\\u00e9rio da Educa\\u00e7\\u00e3o\\nIns(cid:18)tuto Federal de Educa\\u00e7\\u00e3o, Ci\\u00eancia e Tecnologia de S\\u00e3o Paulo\\nIns(cid:18)tuto Federal de Educa\\u00e7\\u00e3o, Ci\\u00eancia e Tecnologia de S\\u00e3o Paulo\\nReitoria\\nReitoria\\nPRO-REITORIA PLAN. DESEN. INSTITUCIONAL\\nPRO-REITORIA PLAN. DESEN. INSTITUCIONAL\\n\\n27 DE MAR\\u00c7O DE 2024\\n EDITAL N\\u00ba 9/2024 - PRO-PRD/RET/IFSP, DE  27 DE MAR\\u00c7O DE 2024\\n  EDITAL N\\u00ba 9/2024 - PRO-PRD/RET/IFSP, DE \\n\\n PROCESSO SELETIVO DE AFASTAMENTO REMUNERADO DOCENTE PARA PARTICIPA\\u00c7\\u00c3O EM PROGRAMA\\nDE P\\u00d3S-GRADUA\\u00c7\\u00c3O STRICTO SENSU\\n\\nEDITAL PRO-PRD/CPPD n\\u00ba09/2024\\n\\n2\\u00ba SEMESTRE DE 2024\\n\\n \\n\\n \\n\\nA Pr\\u00f3-Reitoria de Planejamento e Desenvolvimento Institucional (PRO-PRD) e a Comiss\\u00e3o Permanente de Pessoal Docente (CPPD) \\ntorna p\\u00fablica a abertura das inscri\\u00e7\\u00f5es para o Processo Seletivo de docentes efetivos, no \\u00e2mbito do Instituto Federal de Educa\\u00e7\\u00e3o, Ci\\u00eancia \\ne Tecnologia de S\\u00e3o Paulo (IFSP), visando a classifica\\u00e7\\u00e3o e preenchimento de vagas de Afastamento Remunerado Docente para \\nParticipa\\u00e7\\u00e3o em Programa de P\\u00f3s-Gradua\\u00e7\\u00e3o Stricto Sensu para o 2\\u00ba semestre de 2024 (01 de julho a 31 de dezembro), em n\\u00edveis de \\nMestrado, Doutorado e P\\u00f3s-Doutorado, nos termos do Art. 96-A da Lei n\\u00ba 8.112, de 11 de dezembro de 1990; do inciso I e \\u00a72\\u00ba do Art. 30 \\nda Lei n\\u00ba 12.772, de 28 de dezembro de 2012; do Decreto n\\u00ba 9.991, de 28 de agosto de 2019; da Portaria Normativa RET IFSP n\\u00ba 12, de 07\\nde julho de 2021; da Portaria Normativas RET IFSP n\\u00ba 13, de 07 de julho de 2021, e sua altera\\u00e7\\u00e3o (Portaria Normativa RET IFSP n\\u00ba 69, \\nde 21 de setembro de 2022) e da Portaria IFSP n\\u00ba1869, de 26 de mar\\u00e7o de 2024 (indicativo de vagas). \\n\\n \\n\\n1. DAS DISPOSI\\u00c7\\u00d5ES PRELIMINARES E DO CRONOGRAMA\\n\\n1.1 O Processo Seletivo ser\\u00e1 regido por este Edital e demais documentos envolvidos (Processo Suap n\\u00ba 23305.006660.2024-51).\\n\\n1.2 Ao efetuar a inscri\\u00e7\\u00e3o, o candidato declara conhecimento e aceita\\u00e7\\u00e3o t\\u00e1cita das condi\\u00e7\\u00f5es e normas legais envolvidas neste Processo \\nSeletivo, tais como se acham definidas neste Edital e seus desdobramentos, conforme normas legais pertinentes, das quais n\\u00e3o poder\\u00e1 \\nalegar desconhecimento.\\n\\n1.3 O cronograma de eventos e datas deste Processo Seletivo est\\u00e1 disposto no Quadro 1:\\n\\nQuadro 1: Cronograma do edital\\n\\nPer\\u00edodo de Inscri\\u00e7\\u00f5es\\n\\n01/04/24 \\u00e0 18/04/24\\n\\nPublica\\u00e7\\u00e3o do Resultado Preliminar\\n\\n26/04/23 \\n\\nPrazo para Interposi\\u00e7\\u00e3o de Recursos\\n\\n29/04/23 \\u00e0 30/04/23\\n\\nPublica\\u00e7\\u00e3o do Resultado Final\\n\\n06/05/24\\n\\nSolicita\\u00e7\\u00e3o de Edital para Professor Substituto\\n\\nat\\u00e9 10/05/24\\n\\nPublica\\u00e7\\u00e3o da Portaria e In\\u00edcio do Afastamento\\n\\nCondicionado \\u00e0 contrata\\u00e7\\u00e3o do \\nsubstituto\\n\\n2. DOS REQUISITOS\\n\\n2.1 Para concorrer ao Processo Seletivo de Afastamento Remunerado para Participa\\u00e7\\u00e3o em Programa de P\\u00f3s-Gradua\\u00e7\\u00e3o Stricto Sensu, os \\nservidores interessados dever\\u00e3o atender aos requisitos previstos no Artigo 7\\u00ba, da Portaria Normativa RET IFSP n\\u00ba 13/2021 (e sua \\naltera\\u00e7\\u00e3o), sendo eles:\\n\\n\\f\"\n        ],\n        \"semantic_type\": \"\",\n        \"description\": \"\"\n      }\n    }\n  ]\n}"
            }
          },
          "metadata": {},
          "execution_count": 9
        }
      ]
    },
    {
      "cell_type": "markdown",
      "source": [
        "Modelo de embedding utilizado"
      ],
      "metadata": {
        "id": "3GoPV3DRfKxl"
      }
    },
    {
      "cell_type": "code",
      "source": [
        "model = \"models/embedding-001\""
      ],
      "metadata": {
        "id": "4b-KLmLItiv5"
      },
      "execution_count": 10,
      "outputs": []
    },
    {
      "cell_type": "markdown",
      "source": [
        "Definição da função utilizada para fazer o \"embedding\""
      ],
      "metadata": {
        "id": "m36yiQMJfOG-"
      }
    },
    {
      "cell_type": "code",
      "source": [
        "def embed_fn(title, text):\n",
        "  return genai.embed_content(model=model,\n",
        "                                 content=text,\n",
        "                                 title=title,\n",
        "                                 task_type=\"RETRIEVAL_DOCUMENT\")[\"embedding\"]"
      ],
      "metadata": {
        "id": "UEkFLwC-bp8Y"
      },
      "execution_count": 11,
      "outputs": []
    },
    {
      "cell_type": "markdown",
      "source": [
        "Instrução para geração do embedding do texto"
      ],
      "metadata": {
        "id": "IzrWXFxWfW5O"
      }
    },
    {
      "cell_type": "code",
      "source": [
        "df[\"Embeddings\"] = df.apply(lambda row: embed_fn(row[\"Titulo\"], row[\"Conteudo\"]), axis=1)\n",
        "df"
      ],
      "metadata": {
        "colab": {
          "base_uri": "https://localhost:8080/",
          "height": 89
        },
        "id": "qTj5u40nbvRj",
        "outputId": "84ff154d-b142-42b4-98b6-4f526c0b1d75"
      },
      "execution_count": 12,
      "outputs": [
        {
          "output_type": "execute_result",
          "data": {
            "text/plain": [
              "        Titulo                                           Conteudo  \\\n",
              "0  Edital IFSP  Ministério da Educação\\nMinistério da Educação...   \n",
              "\n",
              "                                          Embeddings  \n",
              "0  [0.028579198, -0.025965186, -0.044124056, 0.03...  "
            ],
            "text/html": [
              "\n",
              "  <div id=\"df-0c4ba331-6e60-4fe1-a223-2fe93fe95843\" class=\"colab-df-container\">\n",
              "    <div>\n",
              "<style scoped>\n",
              "    .dataframe tbody tr th:only-of-type {\n",
              "        vertical-align: middle;\n",
              "    }\n",
              "\n",
              "    .dataframe tbody tr th {\n",
              "        vertical-align: top;\n",
              "    }\n",
              "\n",
              "    .dataframe thead th {\n",
              "        text-align: right;\n",
              "    }\n",
              "</style>\n",
              "<table border=\"1\" class=\"dataframe\">\n",
              "  <thead>\n",
              "    <tr style=\"text-align: right;\">\n",
              "      <th></th>\n",
              "      <th>Titulo</th>\n",
              "      <th>Conteudo</th>\n",
              "      <th>Embeddings</th>\n",
              "    </tr>\n",
              "  </thead>\n",
              "  <tbody>\n",
              "    <tr>\n",
              "      <th>0</th>\n",
              "      <td>Edital IFSP</td>\n",
              "      <td>Ministério da Educação\\nMinistério da Educação...</td>\n",
              "      <td>[0.028579198, -0.025965186, -0.044124056, 0.03...</td>\n",
              "    </tr>\n",
              "  </tbody>\n",
              "</table>\n",
              "</div>\n",
              "    <div class=\"colab-df-buttons\">\n",
              "\n",
              "  <div class=\"colab-df-container\">\n",
              "    <button class=\"colab-df-convert\" onclick=\"convertToInteractive('df-0c4ba331-6e60-4fe1-a223-2fe93fe95843')\"\n",
              "            title=\"Convert this dataframe to an interactive table.\"\n",
              "            style=\"display:none;\">\n",
              "\n",
              "  <svg xmlns=\"http://www.w3.org/2000/svg\" height=\"24px\" viewBox=\"0 -960 960 960\">\n",
              "    <path d=\"M120-120v-720h720v720H120Zm60-500h600v-160H180v160Zm220 220h160v-160H400v160Zm0 220h160v-160H400v160ZM180-400h160v-160H180v160Zm440 0h160v-160H620v160ZM180-180h160v-160H180v160Zm440 0h160v-160H620v160Z\"/>\n",
              "  </svg>\n",
              "    </button>\n",
              "\n",
              "  <style>\n",
              "    .colab-df-container {\n",
              "      display:flex;\n",
              "      gap: 12px;\n",
              "    }\n",
              "\n",
              "    .colab-df-convert {\n",
              "      background-color: #E8F0FE;\n",
              "      border: none;\n",
              "      border-radius: 50%;\n",
              "      cursor: pointer;\n",
              "      display: none;\n",
              "      fill: #1967D2;\n",
              "      height: 32px;\n",
              "      padding: 0 0 0 0;\n",
              "      width: 32px;\n",
              "    }\n",
              "\n",
              "    .colab-df-convert:hover {\n",
              "      background-color: #E2EBFA;\n",
              "      box-shadow: 0px 1px 2px rgba(60, 64, 67, 0.3), 0px 1px 3px 1px rgba(60, 64, 67, 0.15);\n",
              "      fill: #174EA6;\n",
              "    }\n",
              "\n",
              "    .colab-df-buttons div {\n",
              "      margin-bottom: 4px;\n",
              "    }\n",
              "\n",
              "    [theme=dark] .colab-df-convert {\n",
              "      background-color: #3B4455;\n",
              "      fill: #D2E3FC;\n",
              "    }\n",
              "\n",
              "    [theme=dark] .colab-df-convert:hover {\n",
              "      background-color: #434B5C;\n",
              "      box-shadow: 0px 1px 3px 1px rgba(0, 0, 0, 0.15);\n",
              "      filter: drop-shadow(0px 1px 2px rgba(0, 0, 0, 0.3));\n",
              "      fill: #FFFFFF;\n",
              "    }\n",
              "  </style>\n",
              "\n",
              "    <script>\n",
              "      const buttonEl =\n",
              "        document.querySelector('#df-0c4ba331-6e60-4fe1-a223-2fe93fe95843 button.colab-df-convert');\n",
              "      buttonEl.style.display =\n",
              "        google.colab.kernel.accessAllowed ? 'block' : 'none';\n",
              "\n",
              "      async function convertToInteractive(key) {\n",
              "        const element = document.querySelector('#df-0c4ba331-6e60-4fe1-a223-2fe93fe95843');\n",
              "        const dataTable =\n",
              "          await google.colab.kernel.invokeFunction('convertToInteractive',\n",
              "                                                    [key], {});\n",
              "        if (!dataTable) return;\n",
              "\n",
              "        const docLinkHtml = 'Like what you see? Visit the ' +\n",
              "          '<a target=\"_blank\" href=https://colab.research.google.com/notebooks/data_table.ipynb>data table notebook</a>'\n",
              "          + ' to learn more about interactive tables.';\n",
              "        element.innerHTML = '';\n",
              "        dataTable['output_type'] = 'display_data';\n",
              "        await google.colab.output.renderOutput(dataTable, element);\n",
              "        const docLink = document.createElement('div');\n",
              "        docLink.innerHTML = docLinkHtml;\n",
              "        element.appendChild(docLink);\n",
              "      }\n",
              "    </script>\n",
              "  </div>\n",
              "\n",
              "\n",
              "  <div id=\"id_5fb11814-350f-4516-8802-c48941bd6b97\">\n",
              "    <style>\n",
              "      .colab-df-generate {\n",
              "        background-color: #E8F0FE;\n",
              "        border: none;\n",
              "        border-radius: 50%;\n",
              "        cursor: pointer;\n",
              "        display: none;\n",
              "        fill: #1967D2;\n",
              "        height: 32px;\n",
              "        padding: 0 0 0 0;\n",
              "        width: 32px;\n",
              "      }\n",
              "\n",
              "      .colab-df-generate:hover {\n",
              "        background-color: #E2EBFA;\n",
              "        box-shadow: 0px 1px 2px rgba(60, 64, 67, 0.3), 0px 1px 3px 1px rgba(60, 64, 67, 0.15);\n",
              "        fill: #174EA6;\n",
              "      }\n",
              "\n",
              "      [theme=dark] .colab-df-generate {\n",
              "        background-color: #3B4455;\n",
              "        fill: #D2E3FC;\n",
              "      }\n",
              "\n",
              "      [theme=dark] .colab-df-generate:hover {\n",
              "        background-color: #434B5C;\n",
              "        box-shadow: 0px 1px 3px 1px rgba(0, 0, 0, 0.15);\n",
              "        filter: drop-shadow(0px 1px 2px rgba(0, 0, 0, 0.3));\n",
              "        fill: #FFFFFF;\n",
              "      }\n",
              "    </style>\n",
              "    <button class=\"colab-df-generate\" onclick=\"generateWithVariable('df')\"\n",
              "            title=\"Generate code using this dataframe.\"\n",
              "            style=\"display:none;\">\n",
              "\n",
              "  <svg xmlns=\"http://www.w3.org/2000/svg\" height=\"24px\"viewBox=\"0 0 24 24\"\n",
              "       width=\"24px\">\n",
              "    <path d=\"M7,19H8.4L18.45,9,17,7.55,7,17.6ZM5,21V16.75L18.45,3.32a2,2,0,0,1,2.83,0l1.4,1.43a1.91,1.91,0,0,1,.58,1.4,1.91,1.91,0,0,1-.58,1.4L9.25,21ZM18.45,9,17,7.55Zm-12,3A5.31,5.31,0,0,0,4.9,8.1,5.31,5.31,0,0,0,1,6.5,5.31,5.31,0,0,0,4.9,4.9,5.31,5.31,0,0,0,6.5,1,5.31,5.31,0,0,0,8.1,4.9,5.31,5.31,0,0,0,12,6.5,5.46,5.46,0,0,0,6.5,12Z\"/>\n",
              "  </svg>\n",
              "    </button>\n",
              "    <script>\n",
              "      (() => {\n",
              "      const buttonEl =\n",
              "        document.querySelector('#id_5fb11814-350f-4516-8802-c48941bd6b97 button.colab-df-generate');\n",
              "      buttonEl.style.display =\n",
              "        google.colab.kernel.accessAllowed ? 'block' : 'none';\n",
              "\n",
              "      buttonEl.onclick = () => {\n",
              "        google.colab.notebook.generateWithVariable('df');\n",
              "      }\n",
              "      })();\n",
              "    </script>\n",
              "  </div>\n",
              "\n",
              "    </div>\n",
              "  </div>\n"
            ],
            "application/vnd.google.colaboratory.intrinsic+json": {
              "type": "dataframe",
              "variable_name": "df",
              "summary": "{\n  \"name\": \"df\",\n  \"rows\": 1,\n  \"fields\": [\n    {\n      \"column\": \"Titulo\",\n      \"properties\": {\n        \"dtype\": \"string\",\n        \"num_unique_values\": 1,\n        \"samples\": [\n          \"Edital IFSP\"\n        ],\n        \"semantic_type\": \"\",\n        \"description\": \"\"\n      }\n    },\n    {\n      \"column\": \"Conteudo\",\n      \"properties\": {\n        \"dtype\": \"string\",\n        \"num_unique_values\": 1,\n        \"samples\": [\n          \"Minist\\u00e9rio da Educa\\u00e7\\u00e3o\\nMinist\\u00e9rio da Educa\\u00e7\\u00e3o\\nIns(cid:18)tuto Federal de Educa\\u00e7\\u00e3o, Ci\\u00eancia e Tecnologia de S\\u00e3o Paulo\\nIns(cid:18)tuto Federal de Educa\\u00e7\\u00e3o, Ci\\u00eancia e Tecnologia de S\\u00e3o Paulo\\nReitoria\\nReitoria\\nPRO-REITORIA PLAN. DESEN. INSTITUCIONAL\\nPRO-REITORIA PLAN. DESEN. INSTITUCIONAL\\n\\n27 DE MAR\\u00c7O DE 2024\\n EDITAL N\\u00ba 9/2024 - PRO-PRD/RET/IFSP, DE  27 DE MAR\\u00c7O DE 2024\\n  EDITAL N\\u00ba 9/2024 - PRO-PRD/RET/IFSP, DE \\n\\n PROCESSO SELETIVO DE AFASTAMENTO REMUNERADO DOCENTE PARA PARTICIPA\\u00c7\\u00c3O EM PROGRAMA\\nDE P\\u00d3S-GRADUA\\u00c7\\u00c3O STRICTO SENSU\\n\\nEDITAL PRO-PRD/CPPD n\\u00ba09/2024\\n\\n2\\u00ba SEMESTRE DE 2024\\n\\n \\n\\n \\n\\nA Pr\\u00f3-Reitoria de Planejamento e Desenvolvimento Institucional (PRO-PRD) e a Comiss\\u00e3o Permanente de Pessoal Docente (CPPD) \\ntorna p\\u00fablica a abertura das inscri\\u00e7\\u00f5es para o Processo Seletivo de docentes efetivos, no \\u00e2mbito do Instituto Federal de Educa\\u00e7\\u00e3o, Ci\\u00eancia \\ne Tecnologia de S\\u00e3o Paulo (IFSP), visando a classifica\\u00e7\\u00e3o e preenchimento de vagas de Afastamento Remunerado Docente para \\nParticipa\\u00e7\\u00e3o em Programa de P\\u00f3s-Gradua\\u00e7\\u00e3o Stricto Sensu para o 2\\u00ba semestre de 2024 (01 de julho a 31 de dezembro), em n\\u00edveis de \\nMestrado, Doutorado e P\\u00f3s-Doutorado, nos termos do Art. 96-A da Lei n\\u00ba 8.112, de 11 de dezembro de 1990; do inciso I e \\u00a72\\u00ba do Art. 30 \\nda Lei n\\u00ba 12.772, de 28 de dezembro de 2012; do Decreto n\\u00ba 9.991, de 28 de agosto de 2019; da Portaria Normativa RET IFSP n\\u00ba 12, de 07\\nde julho de 2021; da Portaria Normativas RET IFSP n\\u00ba 13, de 07 de julho de 2021, e sua altera\\u00e7\\u00e3o (Portaria Normativa RET IFSP n\\u00ba 69, \\nde 21 de setembro de 2022) e da Portaria IFSP n\\u00ba1869, de 26 de mar\\u00e7o de 2024 (indicativo de vagas). \\n\\n \\n\\n1. DAS DISPOSI\\u00c7\\u00d5ES PRELIMINARES E DO CRONOGRAMA\\n\\n1.1 O Processo Seletivo ser\\u00e1 regido por este Edital e demais documentos envolvidos (Processo Suap n\\u00ba 23305.006660.2024-51).\\n\\n1.2 Ao efetuar a inscri\\u00e7\\u00e3o, o candidato declara conhecimento e aceita\\u00e7\\u00e3o t\\u00e1cita das condi\\u00e7\\u00f5es e normas legais envolvidas neste Processo \\nSeletivo, tais como se acham definidas neste Edital e seus desdobramentos, conforme normas legais pertinentes, das quais n\\u00e3o poder\\u00e1 \\nalegar desconhecimento.\\n\\n1.3 O cronograma de eventos e datas deste Processo Seletivo est\\u00e1 disposto no Quadro 1:\\n\\nQuadro 1: Cronograma do edital\\n\\nPer\\u00edodo de Inscri\\u00e7\\u00f5es\\n\\n01/04/24 \\u00e0 18/04/24\\n\\nPublica\\u00e7\\u00e3o do Resultado Preliminar\\n\\n26/04/23 \\n\\nPrazo para Interposi\\u00e7\\u00e3o de Recursos\\n\\n29/04/23 \\u00e0 30/04/23\\n\\nPublica\\u00e7\\u00e3o do Resultado Final\\n\\n06/05/24\\n\\nSolicita\\u00e7\\u00e3o de Edital para Professor Substituto\\n\\nat\\u00e9 10/05/24\\n\\nPublica\\u00e7\\u00e3o da Portaria e In\\u00edcio do Afastamento\\n\\nCondicionado \\u00e0 contrata\\u00e7\\u00e3o do \\nsubstituto\\n\\n2. DOS REQUISITOS\\n\\n2.1 Para concorrer ao Processo Seletivo de Afastamento Remunerado para Participa\\u00e7\\u00e3o em Programa de P\\u00f3s-Gradua\\u00e7\\u00e3o Stricto Sensu, os \\nservidores interessados dever\\u00e3o atender aos requisitos previstos no Artigo 7\\u00ba, da Portaria Normativa RET IFSP n\\u00ba 13/2021 (e sua \\naltera\\u00e7\\u00e3o), sendo eles:\\n\\n\\f\"\n        ],\n        \"semantic_type\": \"\",\n        \"description\": \"\"\n      }\n    },\n    {\n      \"column\": \"Embeddings\",\n      \"properties\": {\n        \"dtype\": \"object\",\n        \"semantic_type\": \"\",\n        \"description\": \"\"\n      }\n    }\n  ]\n}"
            }
          },
          "metadata": {},
          "execution_count": 12
        }
      ]
    },
    {
      "cell_type": "markdown",
      "source": [
        "Definição da função de busca caso hajam mais documentos"
      ],
      "metadata": {
        "id": "mCZXmIR_fcw2"
      }
    },
    {
      "cell_type": "code",
      "source": [
        "def gerar_e_buscar_consulta(consulta, base, model):\n",
        "  embedding_da_consulta = genai.embed_content(model=model,\n",
        "                                 content=consulta,\n",
        "                                 task_type=\"RETRIEVAL_QUERY\")[\"embedding\"]\n",
        "\n",
        "  produtos_escalares = np.dot(np.stack(df[\"Embeddings\"]), embedding_da_consulta)\n",
        "\n",
        "  indice = np.argmax(produtos_escalares)\n",
        "  return df.iloc[indice][\"Conteudo\"]"
      ],
      "metadata": {
        "id": "z59l7X3zbx-i"
      },
      "execution_count": 13,
      "outputs": []
    },
    {
      "cell_type": "markdown",
      "source": [
        "Aqui é feita a busca em qual documento está a informação desejada"
      ],
      "metadata": {
        "id": "EI9d-UofjxfW"
      }
    },
    {
      "cell_type": "code",
      "source": [
        "consulta = \"qual a data limite de submissao?\"\n",
        "\n",
        "trecho = gerar_e_buscar_consulta(consulta, df, model)\n",
        "print(trecho)"
      ],
      "metadata": {
        "colab": {
          "base_uri": "https://localhost:8080/",
          "height": 1000
        },
        "id": "BR-DQM09b02g",
        "outputId": "1209073b-8499-4a83-a663-5542f1cab00a"
      },
      "execution_count": 14,
      "outputs": [
        {
          "output_type": "stream",
          "name": "stdout",
          "text": [
            "Ministério da Educação\n",
            "Ministério da Educação\n",
            "Ins(cid:18)tuto Federal de Educação, Ciência e Tecnologia de São Paulo\n",
            "Ins(cid:18)tuto Federal de Educação, Ciência e Tecnologia de São Paulo\n",
            "Reitoria\n",
            "Reitoria\n",
            "PRO-REITORIA PLAN. DESEN. INSTITUCIONAL\n",
            "PRO-REITORIA PLAN. DESEN. INSTITUCIONAL\n",
            "\n",
            "27 DE MARÇO DE 2024\n",
            " EDITAL Nº 9/2024 - PRO-PRD/RET/IFSP, DE  27 DE MARÇO DE 2024\n",
            "  EDITAL Nº 9/2024 - PRO-PRD/RET/IFSP, DE \n",
            "\n",
            " PROCESSO SELETIVO DE AFASTAMENTO REMUNERADO DOCENTE PARA PARTICIPAÇÃO EM PROGRAMA\n",
            "DE PÓS-GRADUAÇÃO STRICTO SENSU\n",
            "\n",
            "EDITAL PRO-PRD/CPPD nº09/2024\n",
            "\n",
            "2º SEMESTRE DE 2024\n",
            "\n",
            " \n",
            "\n",
            " \n",
            "\n",
            "A Pró-Reitoria de Planejamento e Desenvolvimento Institucional (PRO-PRD) e a Comissão Permanente de Pessoal Docente (CPPD) \n",
            "torna pública a abertura das inscrições para o Processo Seletivo de docentes efetivos, no âmbito do Instituto Federal de Educação, Ciência \n",
            "e Tecnologia de São Paulo (IFSP), visando a classificação e preenchimento de vagas de Afastamento Remunerado Docente para \n",
            "Participação em Programa de Pós-Graduação Stricto Sensu para o 2º semestre de 2024 (01 de julho a 31 de dezembro), em níveis de \n",
            "Mestrado, Doutorado e Pós-Doutorado, nos termos do Art. 96-A da Lei nº 8.112, de 11 de dezembro de 1990; do inciso I e §2º do Art. 30 \n",
            "da Lei nº 12.772, de 28 de dezembro de 2012; do Decreto nº 9.991, de 28 de agosto de 2019; da Portaria Normativa RET IFSP nº 12, de 07\n",
            "de julho de 2021; da Portaria Normativas RET IFSP nº 13, de 07 de julho de 2021, e sua alteração (Portaria Normativa RET IFSP nº 69, \n",
            "de 21 de setembro de 2022) e da Portaria IFSP nº1869, de 26 de março de 2024 (indicativo de vagas). \n",
            "\n",
            " \n",
            "\n",
            "1. DAS DISPOSIÇÕES PRELIMINARES E DO CRONOGRAMA\n",
            "\n",
            "1.1 O Processo Seletivo será regido por este Edital e demais documentos envolvidos (Processo Suap nº 23305.006660.2024-51).\n",
            "\n",
            "1.2 Ao efetuar a inscrição, o candidato declara conhecimento e aceitação tácita das condições e normas legais envolvidas neste Processo \n",
            "Seletivo, tais como se acham definidas neste Edital e seus desdobramentos, conforme normas legais pertinentes, das quais não poderá \n",
            "alegar desconhecimento.\n",
            "\n",
            "1.3 O cronograma de eventos e datas deste Processo Seletivo está disposto no Quadro 1:\n",
            "\n",
            "Quadro 1: Cronograma do edital\n",
            "\n",
            "Período de Inscrições\n",
            "\n",
            "01/04/24 à 18/04/24\n",
            "\n",
            "Publicação do Resultado Preliminar\n",
            "\n",
            "26/04/23 \n",
            "\n",
            "Prazo para Interposição de Recursos\n",
            "\n",
            "29/04/23 à 30/04/23\n",
            "\n",
            "Publicação do Resultado Final\n",
            "\n",
            "06/05/24\n",
            "\n",
            "Solicitação de Edital para Professor Substituto\n",
            "\n",
            "até 10/05/24\n",
            "\n",
            "Publicação da Portaria e Início do Afastamento\n",
            "\n",
            "Condicionado à contratação do \n",
            "substituto\n",
            "\n",
            "2. DOS REQUISITOS\n",
            "\n",
            "2.1 Para concorrer ao Processo Seletivo de Afastamento Remunerado para Participação em Programa de Pós-Graduação Stricto Sensu, os \n",
            "servidores interessados deverão atender aos requisitos previstos no Artigo 7º, da Portaria Normativa RET IFSP nº 13/2021 (e sua \n",
            "alteração), sendo eles:\n",
            "\n",
            "\f\n"
          ]
        }
      ]
    },
    {
      "cell_type": "markdown",
      "source": [
        "Aqui é feita a busca dentro do documento encontrado sobre a data limite de submissão"
      ],
      "metadata": {
        "id": "Gh9HlP-zj7fr"
      }
    },
    {
      "cell_type": "code",
      "source": [
        "prompt = f\"qual a data limite de submissao: {trecho}\"\n",
        "\n",
        "model_2 = genai.GenerativeModel(\"gemini-1.0-pro\",\n",
        "                                generation_config=generation_config)\n",
        "response = model_2.generate_content(prompt)\n",
        "print(response.text)"
      ],
      "metadata": {
        "colab": {
          "base_uri": "https://localhost:8080/",
          "height": 35
        },
        "id": "_Trhg6YrdHXq",
        "outputId": "6b3c5f1e-79ab-4b02-d7ea-3ce9becfc5f5"
      },
      "execution_count": 15,
      "outputs": [
        {
          "output_type": "stream",
          "name": "stdout",
          "text": [
            "18 de abril de 2024\n"
          ]
        }
      ]
    },
    {
      "cell_type": "markdown",
      "source": [
        "Encontrado o documento, podemos fazer a pergunta 2: quais os requisitos"
      ],
      "metadata": {
        "id": "DihRv6hekE6p"
      }
    },
    {
      "cell_type": "code",
      "source": [
        "prompt = f\"quais os requisitos do candidato: {trecho}\"\n",
        "\n",
        "model_2 = genai.GenerativeModel(\"gemini-1.0-pro\",\n",
        "                                generation_config=generation_config)\n",
        "response = model_2.generate_content(prompt)\n",
        "print(response.text)"
      ],
      "metadata": {
        "colab": {
          "base_uri": "https://localhost:8080/",
          "height": 203
        },
        "id": "jfTveK24dgkZ",
        "outputId": "9ce87478-cb8a-430e-ed49-cb0a40545b1f"
      },
      "execution_count": 16,
      "outputs": [
        {
          "output_type": "stream",
          "name": "stdout",
          "text": [
            "**Requisitos do Candidato:**\n",
            "\n",
            "* Ser servidor efetivo do Instituto Federal de Educação, Ciência e Tecnologia de São Paulo (IFSP).\n",
            "* Ter avaliação de desempenho funcional \"Regular\" ou \"Bom\" no último período avaliativo.\n",
            "* Não ter sofrido punição disciplinar nos últimos 5 (cinco) anos.\n",
            "* Não estar cumprindo pena de suspensão ou estando em afastamento do cargo.\n",
            "* Não ter excedido o limite máximo de afastamento remunerado para pós-graduação previsto na Portaria Normativa RET IFSP nº 13/2021 (e sua alteração).\n",
            "* Comprovar inscrição em programa de pós-graduação stricto sensu, reconhecido pelo Ministério da Educação (MEC), em nível de Mestrado, Doutorado ou Pós-Doutorado.\n",
            "* Ter projeto de pesquisa ou atividades acadêmicas compatíveis com o programa de pós-graduação a ser cursado.\n"
          ]
        }
      ]
    },
    {
      "cell_type": "markdown",
      "source": [
        "E pergunta 3: quais os documentos extras envolvidos"
      ],
      "metadata": {
        "id": "K_ntQRPAkVIM"
      }
    },
    {
      "cell_type": "code",
      "source": [
        "prompt = f\"quais documentos envolvidos: {trecho}\"\n",
        "\n",
        "model_2 = genai.GenerativeModel(\"gemini-1.0-pro\",\n",
        "                                generation_config=generation_config)\n",
        "response = model_2.generate_content(prompt)\n",
        "print(response.text)"
      ],
      "metadata": {
        "colab": {
          "base_uri": "https://localhost:8080/",
          "height": 91
        },
        "id": "Zhc5ZDmodl7c",
        "outputId": "2f70e228-d743-4c0c-fcc5-4ec93781bee0"
      },
      "execution_count": 17,
      "outputs": [
        {
          "output_type": "stream",
          "name": "stdout",
          "text": [
            "- Edital Nº 9/2024 - PRO-PRD/RET/IFSP, de 27 de Março de 2024\n",
            "- Portaria Normativa RET IFSP nº 12, de 07 de julho de 2021\n",
            "- Portaria Normativas RET IFSP nº 13, de 07 de julho de 2021, e sua alteração (Portaria Normativa RET IFSP nº 69, de 21 de setembro de 2022)\n",
            "- Portaria IFSP nº1869, de 26 de março de 2024 (indicativo de vagas)\n"
          ]
        }
      ]
    }
  ]
}